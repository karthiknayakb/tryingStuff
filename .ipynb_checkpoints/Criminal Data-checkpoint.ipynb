{
 "cells": [
  {
   "cell_type": "code",
   "execution_count": null,
   "metadata": {
    "collapsed": true
   },
   "outputs": [],
   "source": [
    "import pandas as pd"
   ]
  },
  {
   "cell_type": "code",
   "execution_count": null,
   "metadata": {
    "collapsed": true
   },
   "outputs": [],
   "source": [
    "crm = pd.read_csv(\"criminal_train.csv\")"
   ]
  },
  {
   "cell_type": "raw",
   "metadata": {},
   "source": [
    "columns = crm.columns\n",
    "unique_counts_criminals={}\n",
    "unique_counts_not_criminals={}\n",
    "criminals = crm[crm[\"Criminal\"]==1].copy()\n",
    "not_criminals = crm[crm[\"Criminal\"]==0].copy()\n",
    "\n",
    "columns = columns[:-5].append(columns[-3:])\n",
    "criminals[\"VESTR\"].value_counts()"
   ]
  },
  {
   "cell_type": "code",
   "execution_count": 4,
   "metadata": {},
   "outputs": [],
   "source": [
    "for i in columns:\n",
    "    unique_counts_criminals[i] = criminals[i].value_counts()\n",
    "for i in columns:\n",
    "    unique_counts_not_criminals[i] = not_criminals[i].value_counts()"
   ]
  },
  {
   "cell_type": "code",
   "execution_count": 5,
   "metadata": {},
   "outputs": [],
   "source": [
    "ids = crm[\"PERID\"]"
   ]
  },
  {
   "cell_type": "code",
   "execution_count": 6,
   "metadata": {},
   "outputs": [
    {
     "data": {
      "text/plain": [
       "2.0"
      ]
     },
     "execution_count": 6,
     "metadata": {},
     "output_type": "execute_result"
    }
   ],
   "source": [
    "crm.iloc[0][columns[2]]"
   ]
  },
  {
   "cell_type": "code",
   "execution_count": 7,
   "metadata": {},
   "outputs": [
    {
     "data": {
      "text/plain": [
       "3175"
      ]
     },
     "execution_count": 7,
     "metadata": {},
     "output_type": "execute_result"
    }
   ],
   "source": [
    "crm_length = len(criminals)\n",
    "column_length = len(columns)\n",
    "crm_length"
   ]
  },
  {
   "cell_type": "code",
   "execution_count": null,
   "metadata": {},
   "outputs": [],
   "source": []
  },
  {
   "cell_type": "code",
   "execution_count": 8,
   "metadata": {},
   "outputs": [],
   "source": [
    "criminals_str_rep = set()\n",
    "for i in xrange(crm_length):\n",
    "    strn = \"\"\n",
    "    for j in range(1,column_length-1):\n",
    "        strn+=str(float(criminals.iloc[i][columns[j]]))\n",
    "    criminals_str_rep.add(strn)"
   ]
  },
  {
   "cell_type": "code",
   "execution_count": 9,
   "metadata": {},
   "outputs": [
    {
     "data": {
      "text/plain": [
       "3091"
      ]
     },
     "execution_count": 9,
     "metadata": {},
     "output_type": "execute_result"
    }
   ],
   "source": [
    "len(criminals_str_rep)\n",
    "criminals_str_rep_list = list(criminals_str_rep)\n",
    "len(criminals_str_rep)"
   ]
  },
  {
   "cell_type": "code",
   "execution_count": 11,
   "metadata": {},
   "outputs": [],
   "source": [
    "crm_length = len(not_criminals)\n",
    "column_length = len(columns)\n",
    "not_criminals_str_rep = set()\n",
    "for i in xrange(crm_length):\n",
    "    strn = \"\"\n",
    "    for j in range(1,column_length-1):\n",
    "        strn+=str(float(not_criminals.iloc[i][columns[j]]))\n",
    "    not_criminals_str_rep.add(strn)"
   ]
  },
  {
   "cell_type": "code",
   "execution_count": 12,
   "metadata": {},
   "outputs": [
    {
     "data": {
      "text/plain": [
       "40087"
      ]
     },
     "execution_count": 12,
     "metadata": {},
     "output_type": "execute_result"
    }
   ],
   "source": [
    "len(not_criminals_str_rep)"
   ]
  },
  {
   "cell_type": "code",
   "execution_count": 23,
   "metadata": {},
   "outputs": [
    {
     "data": {
      "text/plain": [
       "2994"
      ]
     },
     "execution_count": 23,
     "metadata": {},
     "output_type": "execute_result"
    }
   ],
   "source": [
    "not_criminals_str_rep_list = list(not_criminals_str_rep)\n",
    "amb = criminals_str_rep - not_criminals_str_rep\n",
    "amb_list= list(amb)\n",
    "len(amb)\n",
    "len(amb_list)"
   ]
  },
  {
   "cell_type": "code",
   "execution_count": 22,
   "metadata": {},
   "outputs": [],
   "source": [
    "import csv\n",
    "file = open('testfile.txt','w') \n",
    "for i in amb_list:\n",
    "    file.write(i+\" \\n\")\n",
    "file.close()"
   ]
  }
 ],
 "metadata": {
  "kernelspec": {
   "display_name": "Python 2",
   "language": "python",
   "name": "python2"
  },
  "language_info": {
   "codemirror_mode": {
    "name": "ipython",
    "version": 2
   },
   "file_extension": ".py",
   "mimetype": "text/x-python",
   "name": "python",
   "nbconvert_exporter": "python",
   "pygments_lexer": "ipython2",
   "version": "2.7.14"
  }
 },
 "nbformat": 4,
 "nbformat_minor": 2
}
