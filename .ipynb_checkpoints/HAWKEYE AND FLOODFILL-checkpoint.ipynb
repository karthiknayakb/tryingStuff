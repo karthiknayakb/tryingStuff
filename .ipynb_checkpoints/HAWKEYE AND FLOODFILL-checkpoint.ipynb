{
 "cells": [
  {
   "cell_type": "code",
   "execution_count": 45,
   "metadata": {},
   "outputs": [],
   "source": [
    "from numpy import zeros as ze"
   ]
  },
  {
   "cell_type": "code",
   "execution_count": 46,
   "metadata": {},
   "outputs": [],
   "source": [
    "n = 7\n",
    "i,j,p = map(int,\"3 3 3\".split())"
   ]
  },
  {
   "cell_type": "code",
   "execution_count": 47,
   "metadata": {},
   "outputs": [
    {
     "data": {
      "text/plain": [
       "array([[0, 0, 0, 0, 0, 0, 0],\n",
       "       [0, 0, 0, 0, 0, 0, 0],\n",
       "       [0, 0, 0, 0, 0, 0, 0],\n",
       "       [0, 0, 0, 3, 0, 0, 0],\n",
       "       [0, 0, 0, 0, 0, 0, 0],\n",
       "       [0, 0, 0, 0, 0, 0, 0],\n",
       "       [0, 0, 0, 0, 0, 0, 0]])"
      ]
     },
     "execution_count": 47,
     "metadata": {},
     "output_type": "execute_result"
    }
   ],
   "source": [
    "mat = ze([n,n],int)\n",
    "mat[i,j] = p\n",
    "mat"
   ]
  },
  {
   "cell_type": "code",
   "execution_count": 48,
   "metadata": {},
   "outputs": [
    {
     "name": "stdout",
     "output_type": "stream",
     "text": [
      "[1, 1] [5, 1] [5, 5] [1, 5]\n"
     ]
    }
   ],
   "source": [
    "mval = p\n",
    "dif=1\n",
    "lT,rT,rB,lB=[i+1-p,j+1-p],[i-1+p,j+1-p],[i-1+p,j-1+p],[i+1-p,j-1+p]\n",
    "print lT,rT,rB,lB"
   ]
  },
  {
   "cell_type": "code",
   "execution_count": 55,
   "metadata": {
    "collapsed": true
   },
   "outputs": [],
   "source": [
    "def fillBox(lT,rT,rB,lB,mat,val):\n",
    "    for i in range(lT[0],rT[0]+1): #fill rows\n",
    "        mat[i,lT[1]] = 12\n",
    "        mat[i,lB[1]] = 12\n",
    "    #for i in range(lT[0],lB[0]+1): #fill columns\n",
    "        #mat[lT[0],i] = val\n",
    "       # mat[rT[0],i] = val\n",
    "    return mat"
   ]
  },
  {
   "cell_type": "code",
   "execution_count": 56,
   "metadata": {},
   "outputs": [
    {
     "data": {
      "text/plain": [
       "array([[ 0,  0,  0,  0,  0,  0,  0],\n",
       "       [ 0,  1,  0,  0,  0, 12,  0],\n",
       "       [ 0, 12,  0,  0,  0, 12,  0],\n",
       "       [ 0, 12,  0,  3,  0, 12,  0],\n",
       "       [ 0, 12,  0,  0,  0, 12,  0],\n",
       "       [ 0,  1,  0,  0,  0, 12,  0],\n",
       "       [ 0,  0,  0,  0,  0,  0,  0]])"
      ]
     },
     "execution_count": 56,
     "metadata": {},
     "output_type": "execute_result"
    }
   ],
   "source": [
    "fillBox(lT,rT,rB,lB,mat,1)"
   ]
  }
 ],
 "metadata": {
  "kernelspec": {
   "display_name": "Python 2",
   "language": "python",
   "name": "python2"
  },
  "language_info": {
   "codemirror_mode": {
    "name": "ipython",
    "version": 2
   },
   "file_extension": ".py",
   "mimetype": "text/x-python",
   "name": "python",
   "nbconvert_exporter": "python",
   "pygments_lexer": "ipython2",
   "version": "2.7.14"
  }
 },
 "nbformat": 4,
 "nbformat_minor": 2
}
