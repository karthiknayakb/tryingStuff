{
 "cells": [
  {
   "cell_type": "code",
   "execution_count": 112,
   "metadata": {},
   "outputs": [],
   "source": [
    "from numpy import zeros as ze"
   ]
  },
  {
   "cell_type": "code",
   "execution_count": 113,
   "metadata": {},
   "outputs": [],
   "source": [
    "n = 7\n",
    "i,j,p = map(int,\"3 3 3\".split())"
   ]
  },
  {
   "cell_type": "code",
   "execution_count": 114,
   "metadata": {},
   "outputs": [
    {
     "data": {
      "text/plain": [
       "array([[0, 0, 0, 0, 0, 0, 0],\n",
       "       [0, 0, 0, 0, 0, 0, 0],\n",
       "       [0, 0, 0, 0, 0, 0, 0],\n",
       "       [0, 0, 0, 3, 0, 0, 0],\n",
       "       [0, 0, 0, 0, 0, 0, 0],\n",
       "       [0, 0, 0, 0, 0, 0, 0],\n",
       "       [0, 0, 0, 0, 0, 0, 0]])"
      ]
     },
     "execution_count": 114,
     "metadata": {},
     "output_type": "execute_result"
    }
   ],
   "source": [
    "mat = ze([n,n],int)\n",
    "mat[i,j] = p\n",
    "mat"
   ]
  },
  {
   "cell_type": "code",
   "execution_count": 115,
   "metadata": {},
   "outputs": [
    {
     "name": "stdout",
     "output_type": "stream",
     "text": [
      "[1, 1] [5, 1] [5, 5] [1, 5]\n"
     ]
    }
   ],
   "source": [
    "mval = p\n",
    "dif=1\n",
    "lT,rT,rB,lB=[i+1-p,j+1-p],[i-1+p,j+1-p],[i-1+p,j-1+p],[i+1-p,j-1+p]\n",
    "print lT,rT,rB,lB"
   ]
  },
  {
   "cell_type": "code",
   "execution_count": 118,
   "metadata": {},
   "outputs": [
    {
     "data": {
      "text/plain": [
       "array([[0, 0, 0, 0, 0, 0, 0],\n",
       "       [0, 1, 1, 1, 1, 1, 0],\n",
       "       [1, 1, 1, 1, 1, 1, 1],\n",
       "       [0, 1, 1, 3, 0, 1, 1],\n",
       "       [1, 1, 1, 1, 1, 1, 1],\n",
       "       [0, 1, 1, 1, 1, 1, 0],\n",
       "       [0, 0, 0, 0, 0, 0, 0]])"
      ]
     },
     "execution_count": 118,
     "metadata": {},
     "output_type": "execute_result"
    }
   ],
   "source": [
    "def fillBox(lT,rT,rB,lB,mat,val):\n",
    "    for i in range(lT[0],rT[0]+1): #fill rows 1,2,3,4,5\n",
    "        #print \"rows\"\n",
    "        #print \"i,t\",i,lT[1],\" i,b\",i,lB[1]\n",
    "        mat[i,lT[1]] = val #i,1\n",
    "        mat[i,lB[1]] = val #i,5\n",
    "    for i in range(rT[1],rB[1]+1): #fill columns\n",
    "        #print \"colms\"\n",
    "        #print \"t,i\",lT[0],i,\" b,i\",rT[0],i\n",
    "        mat[lT[0],i] = val\n",
    "        mat[rT[0],i] = val\n",
    "    return mat\n",
    "fillBox(lT,rT,rB,lB,mat,1)"
   ]
  },
  {
   "cell_type": "code",
   "execution_count": 121,
   "metadata": {},
   "outputs": [
    {
     "name": "stdout",
     "output_type": "stream",
     "text": [
      "[2, 2] [4, 0] [4, 4] [2, 6]\n",
      "[3, 3] [3, 1] [5, 3] [1, 5]\n"
     ]
    },
    {
     "data": {
      "text/plain": [
       "array([[0, 0, 0, 0, 0, 0, 0],\n",
       "       [0, 1, 1, 1, 1, 1, 0],\n",
       "       [1, 1, 1, 1, 1, 1, 1],\n",
       "       [0, 2, 2, 2, 0, 2, 1],\n",
       "       [1, 1, 1, 1, 1, 1, 1],\n",
       "       [0, 1, 1, 1, 1, 1, 0],\n",
       "       [0, 0, 0, 0, 0, 0, 0]])"
      ]
     },
     "execution_count": 121,
     "metadata": {},
     "output_type": "execute_result"
    }
   ],
   "source": [
    "print lT,rT,rB,lB\n",
    "print [lT[0]+1,lT[1]+1],[rT[0]-1,rT[1]+1],[rB[0]+1,rB[1]-1],[lB[0]-1,lB[1]-1]\n",
    "fillBox([lT[0]+1,lT[1]+1],[rT[0]-1,rT[1]+1],[rB[0]+1,rB[1]-1],[lB[0]-1,lB[1]-1],mat,2)"
   ]
  }
 ],
 "metadata": {
  "kernelspec": {
   "display_name": "Python 2",
   "language": "python",
   "name": "python2"
  },
  "language_info": {
   "codemirror_mode": {
    "name": "ipython",
    "version": 2
   },
   "file_extension": ".py",
   "mimetype": "text/x-python",
   "name": "python",
   "nbconvert_exporter": "python",
   "pygments_lexer": "ipython2",
   "version": "2.7.14"
  }
 },
 "nbformat": 4,
 "nbformat_minor": 2
}
