{
 "cells": [
  {
   "cell_type": "code",
   "execution_count": 3,
   "metadata": {
    "collapsed": true
   },
   "outputs": [],
   "source": [
    "n = 1\n",
    "st = \"fxxotitchpntugbhrvhcioydxioqpbsbrgmidisuirsbvacgsdalrglclevqcascginjskrefyekgefrcwlcwbvrfwmoctsoaadsikjqiooinstpacxrjnufckoloohcjmefdqsvnasrhviobqthhophptrcjpeeutodgimrwdrhmslcdmcdfbyrokpokvnopxqquuvkqtqwbedslfjfgpywjyvuqyeycdiyxdkncgfebqhqqoauwogmutnbbcenguoyxjytsrociegihgoapxekhfjejniyrewmwbsoylacparpekekujkbytmgjbqymoxqcilfcwrwcxnxreylkgsbgdtxjgddllpejuopdindikpvaxnrvrcdqsfqsjbntcayesravpmttmkvbuxykabojlhtrylbjhmksylvggvsnplsbeuvpnbpaqtertvfervvyrshxnrncknvxqkmwpguxbdjtylwoapxffblyysskwsjqygbgdiqcubxqbghfvqkgxndvxpeeskxyhjawestqiujftjojpijjupgshtxqnuovwshymjslxenehadccvghbxfbewaboufrnosqhdxfsqdfwfhssjupedfmoascjaexwlnudiqramnrturbihotfjyvmyloienuqroksxhyrujrwamcmwolgaflmipfsqsiypiwblfaoqyyfeeehucjeccnmxjjfhoykdpxiyxpmioqoqiafglmtyucdpgxycwemtlhfetdshmihewfdywapqiaustxnbgqnswsqwmjvtmvirssaykjdpytuqgumjoprufxnsknjmrlvjskfqtscbmsledutwnvtcoeligfeugxqejofvpjhydoumybnugrmdimgtfrojnijojbliasmuihgwhohdewuoypiwosjpibpypcbhiqljxjhlnjxodamisawdvjcurndnjumhobcdfkixwebnlgxchtikfbkoapdwdofahwofleaqabtiahyujxedtqjmkqftcqltsoecnnymsvhmtlugusuuydtvycnvtujaeescykafbcclehpcrhnqxsagpowwkvwrdmpvuscffrhdolbmbmiyrdlkynbdqgvuinallrfkpxsaepcesjyuwhktnptbcuainjsrnoykegqntlchraaquxfnvpmavdrnwgjgqrgyvvttpjtfnhpeuspagsobisbtaxshsdsupdpambbpfflvkywtvvmmyxdoquosuprcdewhwausldmdpjdoiqemepybcjfiordghlxhrfgkjmwerrljdupymmfnqdxjqtuxqtrhkydjkqlsnynhussgilewiyewjhwnehbgvdngbjvrgrlxfyndeyydfseulqvttxujxvsaoeqtonhvjyfwhtdmtftrfuwoxogwojkyvebcvjeypwwmxbbvuauybcfnvbglkhyuiwmlwqcpolihrlyjrnujccyklywuxowxkgooquhrvprgpbtxbgfufmipbcqhmngtvwngwljwtjghsjilhofnaedsvehdiwgrvstcojssucmoemvqtigtgghxxxotybbiwwfwqurclqfyyrlcgrsyqmmwsgptkauafotgvmmeskxqykxgrswxjeugnfswlkoogexycshvwcnxmxmgeuqrtegslxmyqjsgpahjsfgmcfckknlaectkfgriajkmniwsbhsdofxwcaapmvqvoyhjlsyggveaxwowxpryivcepgjjvudehrlfcvvrivcyukdxpcfvckbmmfrjgarbfimjbkuvrrjyruhygupljyllsmigikrvihslttlpknsilxwbfofhxvvxcmbderpwpultfnieprfkbagxvyidwufrhkokspcympdgjlqgpnkussbndqquawkfnruteeqrxnebxxisnhguhetucmetgreguyyrdniwquaoomdwhaacuffbtnaersjbmdtogrvsertwbctbmsuhobrdeowtntafykjylcwvwtfntrxkhhcpfpecdlsjqwmcsvjkiapgcqiblgtfumhmagtwslotulowcirimkjsvfdbxbdtaqvobvndqhwnddfosxvgxjgrngdweyxyyjiebyvafnkbufhnetxrtwypmjohqdtgisbedrtnaiexylqlstfoaocurgbsyynbrnwrnbsosfrnyxquyhknpwdlliujmnnmpquwafgmdoqwkyvbmkdgesuinqjpnudxcfgmjjccchailewgqbeolxkcedlumryujmfleefvkesgrwkylxiaiasoiefosruiosctjxoifitahgmhtwyvdwcyqmncssklgbrkjrgscdjwfyriytntrvltjhjqcoyctassltdgvvjaayyovwprngpcovhigkjexusqlrinooqlulegdwhsrgfimihhmghckjvpkufvhkjhhbjgvvdopofetefvpbyabauoidmetxsnqgrcghpgnjecjcamfukskxxvvvsafqilxquccrqklfmqmreymukvmtcyyobmyquclvbdlmasniwbypbcfyrsqhvyypjkxhtbwrvlevdtdseuhhkrihvtinlsfhvqjauvetuhjcrlilkokekkfcqfsqjbbwswhxekexfibksklgwniucdnbaxclrcoghrcswrfhewboqdyobnfbeaajpemurhlbwbnawspmxxapawqgwqjjpnbekyfcwhlstjdkbhehitpnhgdjqnswxglaqsfgmfcoaxmiheycpuylhyjruuiwlpkwngadymijrxepunlaeyyiydlkvsmqsasatpeahhkovvjahgjucenmjhibuadsvklovplyrwembovdextkrhddrgreojrxwmovxuusxhaejxybfywobmwetbvdtvhdhmjlufmrfndwataxmcrhbuwduusxxaxddbjmmnrkwtyuwhoihiibeldqugwbpjhwttfknujividqfcwyikrgwkqayntpjbelavopdaxonatmnttodjammxmxfjrqdpdrgxoqgxloubbbcuiagiplfugdnwfcmyofcnaohpgktaqadgkegtbedemtuwjyjjsnqcjsvgnwcnrhulsjktikmqhkmexnsqpmvgtsgqaqbxrrkmaaxikpcuksurrxgjdpgbymsvishqycbwxtmorudicuummfmqquqeiaetewlwftdkdyikuolof\"\n",
    "hea = list(\"hackerearth\")\n",
    "heaset = set(hea)"
   ]
  },
  {
   "cell_type": "code",
   "execution_count": 4,
   "metadata": {},
   "outputs": [],
   "source": [
    "st = list(st)\n",
    "st = filter(lambda x: x in hea,st)\n",
    "sethe = {}"
   ]
  },
  {
   "cell_type": "code",
   "execution_count": 5,
   "metadata": {},
   "outputs": [],
   "source": [
    "for i in hea:\n",
    "    sethe[i] = hea.count(i)"
   ]
  },
  {
   "cell_type": "code",
   "execution_count": 6,
   "metadata": {},
   "outputs": [
    {
     "data": {
      "text/plain": [
       "{'a': 2, 'c': 1, 'e': 2, 'h': 2, 'k': 1, 'r': 2, 't': 1}"
      ]
     },
     "execution_count": 6,
     "metadata": {},
     "output_type": "execute_result"
    }
   ],
   "source": [
    "sethe"
   ]
  },
  {
   "cell_type": "code",
   "execution_count": 7,
   "metadata": {},
   "outputs": [],
   "source": [
    "setst = {}\n",
    "for i in heaset:\n",
    "    setst[i] = st.count(i)"
   ]
  },
  {
   "cell_type": "code",
   "execution_count": 12,
   "metadata": {},
   "outputs": [
    {
     "data": {
      "text/plain": [
       "{'a', 'c', 'e', 'h', 'k', 'r', 't'}"
      ]
     },
     "execution_count": 12,
     "metadata": {},
     "output_type": "execute_result"
    }
   ],
   "source": [
    "setst\n",
    "heaset"
   ]
  },
  {
   "cell_type": "code",
   "execution_count": 9,
   "metadata": {},
   "outputs": [],
   "source": [
    "count = 0\n",
    "flag=True\n",
    "while flag:\n",
    "    for i in setst:\n",
    "        if i in sethe:\n",
    "            setst[i]-=sethe[i]\n",
    "            if setst[i]<0:\n",
    "                flag=False\n",
    "                break\n",
    "    if flag:\n",
    "        count+=1    "
   ]
  },
  {
   "cell_type": "code",
   "execution_count": 10,
   "metadata": {},
   "outputs": [
    {
     "name": "stdout",
     "output_type": "stream",
     "text": [
      "61\n"
     ]
    }
   ],
   "source": [
    "print count"
   ]
  }
 ],
 "metadata": {
  "kernelspec": {
   "display_name": "Python 2",
   "language": "python",
   "name": "python2"
  },
  "language_info": {
   "codemirror_mode": {
    "name": "ipython",
    "version": 2
   },
   "file_extension": ".py",
   "mimetype": "text/x-python",
   "name": "python",
   "nbconvert_exporter": "python",
   "pygments_lexer": "ipython2",
   "version": "2.7.14"
  }
 },
 "nbformat": 4,
 "nbformat_minor": 2
}
