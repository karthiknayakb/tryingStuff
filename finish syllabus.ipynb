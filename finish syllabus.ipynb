{
 "cells": [
  {
   "cell_type": "code",
   "execution_count": 25,
   "metadata": {},
   "outputs": [
    {
     "name": "stdout",
     "output_type": "stream",
     "text": [
      "2\n",
      "MONDAY\n"
     ]
    }
   ],
   "source": [
    "weeks = ['MONDAY','TUESDAY','WEDNESDAY','THURSDAY','FRIDAY','SATURDAY','SUNDAY']\n",
    "t=1\n",
    "for z in range(t):\n",
    "    topics = 2\n",
    "    week = map(int,\"57 87 12 6 76 93 52\".split())\n",
    "    #week = map(int,\"1 1 0 0 0 0 0\".split())\n",
    "    curr = 0\n",
    "    print topics%sum(week)\n",
    "    if topics%sum(week) > 0:\n",
    "        topics = topics%sum(week)\n",
    "    while topics>0:\n",
    "        curr = 0\n",
    "        for i,t in enumerate(week):\n",
    "            topics-= t\n",
    "            if topics == 0:\n",
    "                curr=i\n",
    "                break\n",
    "    print weeks[curr]\n",
    "\n"
   ]
  }
 ],
 "metadata": {
  "kernelspec": {
   "display_name": "Python 2",
   "language": "python",
   "name": "python2"
  },
  "language_info": {
   "codemirror_mode": {
    "name": "ipython",
    "version": 2
   },
   "file_extension": ".py",
   "mimetype": "text/x-python",
   "name": "python",
   "nbconvert_exporter": "python",
   "pygments_lexer": "ipython2",
   "version": "2.7.14"
  }
 },
 "nbformat": 4,
 "nbformat_minor": 2
}
