{
 "cells": [
  {
   "cell_type": "code",
   "execution_count": 2,
   "metadata": {
    "collapsed": true
   },
   "outputs": [],
   "source": [
    "import cv2\n",
    "import numpy as np"
   ]
  },
  {
   "cell_type": "code",
   "execution_count": 3,
   "metadata": {},
   "outputs": [
    {
     "name": "stdout",
     "output_type": "stream",
     "text": [
      "210 129 61\n",
      "(768L, 1024L, 3L)\n",
      "(768L, 1024L)\n",
      "gray 110\n"
     ]
    }
   ],
   "source": [
    "pat = \"./Desert.jpg\"\n",
    "image = cv2.imread(pat)\n",
    "b,g,r = image[0,55]\n",
    "print b,g,r\n",
    "gray_image = cv2.cvtColor(image,cv2.COLOR_BGR2GRAY)\n",
    "print image.shape\n",
    "print gray_image.shape\n",
    "print \"gray\",gray_image[0,0]\n",
    "hsv_image = cv2.cvtColor(image,cv2.COLOR_BGR2HSV)"
   ]
  },
  {
   "cell_type": "code",
   "execution_count": 4,
   "metadata": {
    "collapsed": true
   },
   "outputs": [],
   "source": [
    "#cv2.imshow('Image',image)\n",
    "#cv2.imshow('gray_image',gray_image)\n",
    "#cv2.imshow('HSV_Image',hsv_image)\n",
    "b,g,r = cv2.split(image)\n",
    "cv2.imshow(\"normal\",image)\n",
    "#cv2.imshow('bluer',cv2.merge([b+100,g,r]))\n",
    "#cv2.imshow('greener',cv2.merge([b,g+100,r]))\n",
    "#cv2.imshow('redder',cv2.merge([b,g,r+100]))\n",
    "zeror = np.zeros(image.shape[:2],dtype=\"uint8\")\n",
    "#cv2.imshow('bluer',cv2.merge([zeror,zeror,r]))\n",
    "cv2.imshow(\"hsv normal\", hsv_image)\n",
    "cv2.imshow(\"hue channel\",hsv_image[:,:,0])\n",
    "cv2.imshow(\"saturation channel\",hsv_image[:,:,1])\n",
    "cv2.imshow(\"value channel\" ,hsv_image[:,:,2])\n",
    "cv2.waitKey()\n",
    "cv2.destroyAllWindows()"
   ]
  },
  {
   "cell_type": "code",
   "execution_count": 5,
   "metadata": {},
   "outputs": [],
   "source": [
    "cv2.destroyAllWindows()"
   ]
  },
  {
   "cell_type": "code",
   "execution_count": null,
   "metadata": {
    "collapsed": true
   },
   "outputs": [],
   "source": [
    "cv2.INTER"
   ]
  }
 ],
 "metadata": {
  "kernelspec": {
   "display_name": "Python 2",
   "language": "python",
   "name": "python2"
  },
  "language_info": {
   "codemirror_mode": {
    "name": "ipython",
    "version": 2
   },
   "file_extension": ".py",
   "mimetype": "text/x-python",
   "name": "python",
   "nbconvert_exporter": "python",
   "pygments_lexer": "ipython2",
   "version": "2.7.14"
  }
 },
 "nbformat": 4,
 "nbformat_minor": 2
}
